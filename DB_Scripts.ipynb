{
  "nbformat": 4,
  "nbformat_minor": 0,
  "metadata": {
    "colab": {
      "provenance": [],
      "toc_visible": true
    },
    "kernelspec": {
      "name": "python3",
      "display_name": "Python 3"
    },
    "language_info": {
      "name": "python"
    }
  },
  "cells": [
    {
      "cell_type": "markdown",
      "source": [
        "# In Cloud SQL , in networks tab , we have allowed requests from colab to establish db connection."
      ],
      "metadata": {
        "id": "GlR8dkOqGtlh"
      }
    },
    {
      "cell_type": "code",
      "source": [
        "!pip install pymysql\n"
      ],
      "metadata": {
        "id": "b0TrRGm4Gq8u"
      },
      "execution_count": null,
      "outputs": []
    },
    {
      "cell_type": "markdown",
      "source": [
        "# Connect to Cloud Sql"
      ],
      "metadata": {
        "id": "sTpagf8_eqX0"
      }
    },
    {
      "cell_type": "code",
      "source": [
        "import pymysql\n",
        "connection=pymysql.connect(host=\"34.70.162.68\", user=\"anisharao\",passwd=\"airbnb\", db=\"airbnb-298\")\n"
      ],
      "metadata": {
        "id": "PuVZsB2IU0LI"
      },
      "execution_count": 9,
      "outputs": []
    },
    {
      "cell_type": "markdown",
      "source": [
        "# Show tables"
      ],
      "metadata": {
        "id": "CTekqOWjG7Sh"
      }
    },
    {
      "cell_type": "code",
      "source": [
        "try:\n",
        "    # Create a cursor object\n",
        "    cursor = connection.cursor()\n",
        "\n",
        "    # Execute a query to get the table names\n",
        "    cursor.execute(\"SHOW TABLES\")\n",
        "\n",
        "    # Fetch all the tables\n",
        "    tables = cursor.fetchall()\n",
        "\n",
        "    # Print the table names\n",
        "    print(\"Tables in the database:\")\n",
        "    for table in tables:\n",
        "        print(table[0])\n",
        "\n",
        "finally:\n",
        "    # Close the cursor\n",
        "    cursor.close()\n"
      ],
      "metadata": {
        "colab": {
          "base_uri": "https://localhost:8080/"
        },
        "id": "xxMxOoFDXmyg",
        "outputId": "e69d8433-6428-49bc-c887-37c9b9f2254a"
      },
      "execution_count": 10,
      "outputs": [
        {
          "output_type": "stream",
          "name": "stdout",
          "text": [
            "Tables in the database:\n",
            "airbnb_detection\n",
            "airbnb_registration\n",
            "airbnb_room\n",
            "amenities\n",
            "guest\n",
            "host\n",
            "images\n",
            "videos\n"
          ]
        }
      ]
    },
    {
      "cell_type": "code",
      "source": [
        "try:\n",
        "    # Create a cursor object\n",
        "    cursor = connection.cursor()\n",
        "\n",
        "    # Execute a query to drop the specified table\n",
        "    cursor.execute(\"select * from airbnb_registration\")\n",
        "        # Fetch all the columns\n",
        "    rows = cursor.fetchall()\n",
        "\n",
        "    # Print the column names and information\n",
        "    # print(f\"Columns in the table airbnb_detection:\")\n",
        "    for row in rows:\n",
        "        print(row)\n",
        "\n",
        "    # Commit the changes\n",
        "    # connection.commit()\n",
        "\n",
        "    # print(f\"Table amenities dropped successfully.\")\n",
        "\n",
        "finally:\n",
        "    # Close the cursor and connection\n",
        "    cursor.close()"
      ],
      "metadata": {
        "colab": {
          "base_uri": "https://localhost:8080/"
        },
        "id": "dw5qV1UtksXp",
        "outputId": "623f0ced-f380-4f57-8885-29aa61caa30a"
      },
      "execution_count": 11,
      "outputs": [
        {
          "output_type": "stream",
          "name": "stdout",
          "text": [
            "(1, 'Home INN', 'San Jose, CA 95110, USA', Decimal('100.00'))\n"
          ]
        }
      ]
    },
    {
      "cell_type": "markdown",
      "source": [
        "# Three tables are:\n",
        "1. Amenties -> that stores amenity names\n",
        "2. airbnb_registration-> to store airbnb property details\n",
        "3. airbnb_detection-> to store detections found"
      ],
      "metadata": {
        "id": "gbNbtnTiHBou"
      }
    },
    {
      "cell_type": "code",
      "source": [
        "try:\n",
        "    # Create a cursor object\n",
        "    cursor = connection.cursor()\n",
        "\n",
        "    # Execute a query to create the amenities table\n",
        "    create_table_query = \"\"\"\n",
        "    CREATE TABLE IF NOT EXISTS amenities (\n",
        "        amenity_id INT PRIMARY KEY,\n",
        "        amenity_name VARCHAR(255) NOT NULL\n",
        "    )\n",
        "    \"\"\"\n",
        "    cursor.execute(create_table_query)\n",
        "\n",
        "    # Commit the changes\n",
        "    connection.commit()\n",
        "\n",
        "    print(\"Table 'amenities' created successfully.\")\n",
        "\n",
        "    # Execute a query to create the airbnb_registration table\n",
        "    create_airbnb_registration_table_query = \"\"\"\n",
        "    CREATE TABLE IF NOT EXISTS airbnb_registration (\n",
        "        airbnb_id INT ,\n",
        "        airbnb_name VARCHAR(255) ,\n",
        "        airbnb_location VARCHAR(255) ,\n",
        "        airbnb_price DECIMAL(10, 2) ,\n",
        "        PRIMARY KEY (airbnb_id, airbnb_name)\n",
        "    )\n",
        "    \"\"\"\n",
        "    cursor.execute(create_airbnb_registration_table_query)\n",
        "\n",
        "    # Commit the changes for airbnb_registration table\n",
        "    connection.commit()\n",
        "\n",
        "    print(\"Table 'airbnb_registration' created successfully.\")\n",
        "\n",
        "        # Execute a query to create the airbnb_registration table\n",
        "    create_airbnb_detection_table_query = \"\"\"\n",
        "    CREATE TABLE IF NOT EXISTS airbnb_detection (\n",
        "        airbnb_id INT,\n",
        "        amenity_id INT,\n",
        "        amenity_count INT,\n",
        "        PRIMARY KEY (airbnb_id, amenity_id),\n",
        "        FOREIGN KEY (airbnb_id) REFERENCES airbnb_registration(airbnb_id),\n",
        "        FOREIGN KEY (amenity_id) REFERENCES amenities(amenity_id)\n",
        "    )\n",
        "    \"\"\"\n",
        "    cursor.execute(create_airbnb_detection_table_query)\n",
        "\n",
        "    # Commit the changes for airbnb_registration table\n",
        "    connection.commit()\n",
        "\n",
        "    print(\"Table 'airbnb_detection' created successfully.\")\n",
        "\n",
        "finally:\n",
        "    # Close the cursor and connection\n",
        "    cursor.close()"
      ],
      "metadata": {
        "colab": {
          "base_uri": "https://localhost:8080/"
        },
        "id": "9jWe0cDhexif",
        "outputId": "562727c4-4875-47db-c57f-1413bf632f79"
      },
      "execution_count": 12,
      "outputs": [
        {
          "output_type": "stream",
          "name": "stdout",
          "text": [
            "Table 'amenities' created successfully.\n",
            "Table 'airbnb_registration' created successfully.\n",
            "Table 'airbnb_detection' created successfully.\n"
          ]
        }
      ]
    },
    {
      "cell_type": "markdown",
      "source": [
        "# Insert into Amenities"
      ],
      "metadata": {
        "id": "UYrsu1QpuJni"
      }
    },
    {
      "cell_type": "code",
      "source": [
        "try:\n",
        "    # Create a cursor object\n",
        "    cursor = connection.cursor()\n",
        "\n",
        "    # Insert data into the amenities table\n",
        "    classes = ['Bathtub', 'Bed', 'Billiard table', 'Ceiling fan', 'Coffeemaker', 'Couch', 'Countertop',\n",
        "               'Dishwasher', 'Fireplace', 'Fountain', 'Gas stove', 'Jacuzzi', 'Kitchen & dining room table',\n",
        "               'Microwave oven', 'Mirror', 'Oven', 'Pillow', 'Porch', 'Refrigerator', 'Shower', 'Sink',\n",
        "               'Sofa bed', 'Stairs', 'Swimming pool', 'Television', 'Toilet', 'Towel', 'Tree house',\n",
        "               'Washing machine', 'Wine rack']\n",
        "\n",
        "    for idx, amenity_name in enumerate(classes):\n",
        "        # Insert each amenity into the table\n",
        "        cursor.execute(\"INSERT INTO amenities (amenity_id, amenity_name) VALUES (%s, %s)\", (idx, amenity_name))\n",
        "\n",
        "    # Commit the changes\n",
        "    connection.commit()\n",
        "\n",
        "    print(\"Data inserted into the 'amenities' table successfully.\")\n",
        "\n",
        "finally:\n",
        "    # Close the cursor and connection\n",
        "    cursor.close()"
      ],
      "metadata": {
        "id": "_smLmbRCuMKV"
      },
      "execution_count": null,
      "outputs": []
    }
  ]
}