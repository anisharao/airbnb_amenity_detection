{
  "nbformat": 4,
  "nbformat_minor": 0,
  "metadata": {
    "colab": {
      "provenance": [],
      "toc_visible": true
    },
    "kernelspec": {
      "name": "python3",
      "display_name": "Python 3"
    },
    "language_info": {
      "name": "python"
    }
  },
  "cells": [
    {
      "cell_type": "markdown",
      "source": [
        "# In Cloud SQL , in networks tab , we have allowed requests from colab to establish db connection."
      ],
      "metadata": {
        "id": "GlR8dkOqGtlh"
      }
    },
    {
      "cell_type": "code",
      "source": [
        "!pip install pymysql\n"
      ],
      "metadata": {
        "colab": {
          "base_uri": "https://localhost:8080/"
        },
        "id": "b0TrRGm4Gq8u",
        "outputId": "13d8b001-b5f9-42d0-ec76-3455943c18c4"
      },
      "execution_count": 1,
      "outputs": [
        {
          "output_type": "stream",
          "name": "stdout",
          "text": [
            "Collecting pymysql\n",
            "  Downloading PyMySQL-1.1.0-py3-none-any.whl (44 kB)\n",
            "\u001b[?25l     \u001b[90m━━━━━━━━━━━━━━━━━━━━━━━━━━━━━━━━━━━━━━━━\u001b[0m \u001b[32m0.0/44.8 kB\u001b[0m \u001b[31m?\u001b[0m eta \u001b[36m-:--:--\u001b[0m\r\u001b[2K     \u001b[90m━━━━━━━━━━━━━━━━━━━━━━━━━━━━━━━━━━━━━━━━\u001b[0m \u001b[32m44.8/44.8 kB\u001b[0m \u001b[31m2.4 MB/s\u001b[0m eta \u001b[36m0:00:00\u001b[0m\n",
            "\u001b[?25hInstalling collected packages: pymysql\n",
            "Successfully installed pymysql-1.1.0\n"
          ]
        }
      ]
    },
    {
      "cell_type": "markdown",
      "source": [
        "# Connect to Cloud Sql"
      ],
      "metadata": {
        "id": "sTpagf8_eqX0"
      }
    },
    {
      "cell_type": "code",
      "source": [
        "import pymysql\n",
        "connection=pymysql.connect(host=\"34.70.162.68\", user=\"anisharao\",passwd=\"airbnb\", db=\"airbnb-298\")\n"
      ],
      "metadata": {
        "id": "PuVZsB2IU0LI"
      },
      "execution_count": 2,
      "outputs": []
    },
    {
      "cell_type": "markdown",
      "source": [
        "# Show tables"
      ],
      "metadata": {
        "id": "CTekqOWjG7Sh"
      }
    },
    {
      "cell_type": "code",
      "source": [
        "try:\n",
        "    # Create a cursor object\n",
        "    cursor = connection.cursor()\n",
        "\n",
        "    # Execute a query to get the table names\n",
        "    cursor.execute(\"SHOW TABLES\")\n",
        "\n",
        "    # Fetch all the tables\n",
        "    tables = cursor.fetchall()\n",
        "\n",
        "    # Print the table names\n",
        "    print(\"Tables in the database:\")\n",
        "    for table in tables:\n",
        "        print(table[0])\n",
        "\n",
        "finally:\n",
        "    # Close the cursor\n",
        "    cursor.close()\n"
      ],
      "metadata": {
        "colab": {
          "base_uri": "https://localhost:8080/"
        },
        "id": "xxMxOoFDXmyg",
        "outputId": "e69d8433-6428-49bc-c887-37c9b9f2254a"
      },
      "execution_count": 10,
      "outputs": [
        {
          "output_type": "stream",
          "name": "stdout",
          "text": [
            "Tables in the database:\n",
            "airbnb_detection\n",
            "airbnb_registration\n",
            "airbnb_room\n",
            "amenities\n",
            "guest\n",
            "host\n",
            "images\n",
            "videos\n"
          ]
        }
      ]
    },
    {
      "cell_type": "markdown",
      "source": [
        "# Three tables are:\n",
        "1. Amenties -> that stores amenity names\n",
        "2. airbnb_registration-> to store airbnb property details\n",
        "3. airbnb_detection-> to store detections found"
      ],
      "metadata": {
        "id": "gbNbtnTiHBou"
      }
    },
    {
      "cell_type": "code",
      "source": [
        "try:\n",
        "    # Create a cursor object\n",
        "    cursor = connection.cursor()\n",
        "\n",
        "    # Execute a query to create the amenities table\n",
        "    create_table_query = \"\"\"\n",
        "    CREATE TABLE IF NOT EXISTS amenities (\n",
        "        amenity_id INT PRIMARY KEY,\n",
        "        amenity_name VARCHAR(255) NOT NULL\n",
        "    )\n",
        "    \"\"\"\n",
        "    cursor.execute(create_table_query)\n",
        "\n",
        "    # Commit the changes\n",
        "    connection.commit()\n",
        "\n",
        "    print(\"Table 'amenities' created successfully.\")\n",
        "\n",
        "    # Execute a query to create the airbnb_registration table\n",
        "    create_airbnb_registration_table_query = \"\"\"\n",
        "    CREATE TABLE IF NOT EXISTS airbnb_registration (\n",
        "        airbnb_id INT ,\n",
        "        airbnb_name VARCHAR(255) ,\n",
        "        airbnb_location VARCHAR(255) ,\n",
        "        airbnb_price DECIMAL(10, 2) ,\n",
        "        PRIMARY KEY (airbnb_id, airbnb_name)\n",
        "    )\n",
        "    \"\"\"\n",
        "    cursor.execute(create_airbnb_registration_table_query)\n",
        "\n",
        "    # Commit the changes for airbnb_registration table\n",
        "    connection.commit()\n",
        "\n",
        "    print(\"Table 'airbnb_registration' created successfully.\")\n",
        "\n",
        "        # Execute a query to create the airbnb_registration table\n",
        "    create_airbnb_detection_table_query = \"\"\"\n",
        "    CREATE TABLE IF NOT EXISTS airbnb_detection (\n",
        "        airbnb_id INT,\n",
        "        amenity_id INT,\n",
        "        amenity_count INT,\n",
        "        PRIMARY KEY (airbnb_id, amenity_id),\n",
        "        FOREIGN KEY (airbnb_id) REFERENCES airbnb_registration(airbnb_id),\n",
        "        FOREIGN KEY (amenity_id) REFERENCES amenities(amenity_id)\n",
        "    )\n",
        "    \"\"\"\n",
        "    cursor.execute(create_airbnb_detection_table_query)\n",
        "\n",
        "    # Commit the changes for airbnb_registration table\n",
        "    connection.commit()\n",
        "\n",
        "    print(\"Table 'airbnb_detection' created successfully.\")\n",
        "\n",
        "finally:\n",
        "    # Close the cursor and connection\n",
        "    cursor.close()"
      ],
      "metadata": {
        "colab": {
          "base_uri": "https://localhost:8080/"
        },
        "id": "9jWe0cDhexif",
        "outputId": "562727c4-4875-47db-c57f-1413bf632f79"
      },
      "execution_count": 12,
      "outputs": [
        {
          "output_type": "stream",
          "name": "stdout",
          "text": [
            "Table 'amenities' created successfully.\n",
            "Table 'airbnb_registration' created successfully.\n",
            "Table 'airbnb_detection' created successfully.\n"
          ]
        }
      ]
    },
    {
      "cell_type": "markdown",
      "source": [
        "# Insert into Amenities"
      ],
      "metadata": {
        "id": "UYrsu1QpuJni"
      }
    },
    {
      "cell_type": "code",
      "source": [
        "try:\n",
        "    # Create a cursor object\n",
        "    cursor = connection.cursor()\n",
        "\n",
        "    # Insert data into the amenities table\n",
        "    classes = ['Bathtub', 'Bed', 'Billiard table', 'Ceiling fan', 'Coffeemaker', 'Couch', 'Countertop',\n",
        "               'Dishwasher', 'Fireplace', 'Fountain', 'Gas stove', 'Jacuzzi', 'Kitchen & dining room table',\n",
        "               'Microwave oven', 'Mirror', 'Oven', 'Pillow', 'Porch', 'Refrigerator', 'Shower', 'Sink',\n",
        "               'Sofa bed', 'Stairs', 'Swimming pool', 'Television', 'Toilet', 'Towel', 'Tree house',\n",
        "               'Washing machine', 'Wine rack']\n",
        "\n",
        "    for idx, amenity_name in enumerate(classes):\n",
        "        # Insert each amenity into the table\n",
        "        cursor.execute(\"INSERT INTO amenities (amenity_id, amenity_name) VALUES (%s, %s)\", (idx, amenity_name))\n",
        "\n",
        "    # Commit the changes\n",
        "    connection.commit()\n",
        "\n",
        "    print(\"Data inserted into the 'amenities' table successfully.\")\n",
        "\n",
        "finally:\n",
        "    # Close the cursor and connection\n",
        "    cursor.close()"
      ],
      "metadata": {
        "id": "_smLmbRCuMKV"
      },
      "execution_count": null,
      "outputs": []
    },
    {
      "cell_type": "markdown",
      "source": [
        "# Select queries"
      ],
      "metadata": {
        "id": "jWkrCgdsJ5xL"
      }
    },
    {
      "cell_type": "code",
      "source": [
        "try:\n",
        "    # Create a cursor object\n",
        "    cursor = connection.cursor()\n",
        "\n",
        "    # Execute a query to drop the specified table\n",
        "    cursor.execute(\"select * from amenities\")\n",
        "        # Fetch all the columns\n",
        "    rows = cursor.fetchall()\n",
        "\n",
        "    # Print the column names and information\n",
        "    # print(f\"Columns in the table airbnb_detection:\")\n",
        "    for row in rows:\n",
        "        print(row)\n",
        "\n",
        "    # Commit the changes\n",
        "    # connection.commit()\n",
        "\n",
        "    # print(f\"Table amenities dropped successfully.\")\n",
        "\n",
        "finally:\n",
        "    # Close the cursor and connection\n",
        "    cursor.close()"
      ],
      "metadata": {
        "colab": {
          "base_uri": "https://localhost:8080/"
        },
        "id": "bdRRqbozJ7wF",
        "outputId": "53aef63f-628e-4511-da44-671d2b29410f"
      },
      "execution_count": 6,
      "outputs": [
        {
          "output_type": "stream",
          "name": "stdout",
          "text": [
            "(0, 'Bathtub', 'Bathroom')\n",
            "(1, 'Bed', 'Bedroom')\n",
            "(2, 'Billiard table', 'Living Room')\n",
            "(3, 'Ceiling fan', 'Living Room')\n",
            "(4, 'Coffeemaker', 'Kitchen')\n",
            "(5, 'Couch', 'Living Room')\n",
            "(6, 'Countertop', 'Kitchen')\n",
            "(7, 'Dishwasher', 'Kitchen')\n",
            "(8, 'Fireplace', 'Living Room')\n",
            "(9, 'Fountain', 'Outdoor')\n",
            "(10, 'Gas stove', 'Kitchen')\n",
            "(11, 'Jacuzzi', 'Outdoor')\n",
            "(12, 'Kitchen & dining room table', 'Kitchen')\n",
            "(13, 'Microwave oven', 'Kitchen')\n",
            "(14, 'Mirror', 'Living Room')\n",
            "(15, 'Oven', 'Kitchen')\n",
            "(16, 'Pillow', 'Bedroom')\n",
            "(17, 'Porch', 'Outdoor')\n",
            "(18, 'Refrigerator', 'Kitchen')\n",
            "(19, 'Shower', 'Bathroom')\n",
            "(20, 'Sink', 'Bathroom')\n",
            "(21, 'Sofa bed', 'Living Room')\n",
            "(22, 'Stairs', 'Outdoor')\n",
            "(23, 'Swimming pool', 'Outdoor')\n",
            "(24, 'Television', 'Living Room')\n",
            "(25, 'Toilet', 'Bathroom')\n",
            "(26, 'Towel', 'Bathroom')\n",
            "(27, 'Tree house', 'Outdoor')\n",
            "(28, 'Washing machine', 'Bathroom')\n",
            "(29, 'Wine rack', 'Kitchen')\n"
          ]
        }
      ]
    },
    {
      "cell_type": "code",
      "source": [
        "try:\n",
        "    # Create a cursor object\n",
        "    cursor = connection.cursor()\n",
        "\n",
        "    # Execute a query to drop the specified table\n",
        "    cursor.execute(\"select * from airbnb_detection\")\n",
        "        # Fetch all the columns\n",
        "    rows = cursor.fetchall()\n",
        "\n",
        "    # Print the column names and information\n",
        "    # print(f\"Columns in the table airbnb_detection:\")\n",
        "    for row in rows:\n",
        "        print(row)\n",
        "\n",
        "    # Commit the changes\n",
        "    # connection.commit()\n",
        "\n",
        "    # print(f\"Table amenities dropped successfully.\")\n",
        "\n",
        "finally:\n",
        "    # Close the cursor and connection\n",
        "    cursor.close()"
      ],
      "metadata": {
        "colab": {
          "base_uri": "https://localhost:8080/"
        },
        "id": "J51TVb_vJ8ze",
        "outputId": "b6f70f16-f773-4815-f7a4-cc2bb82b6b5f"
      },
      "execution_count": 7,
      "outputs": [
        {
          "output_type": "stream",
          "name": "stdout",
          "text": [
            "(2, 23, 1)\n"
          ]
        }
      ]
    },
    {
      "cell_type": "markdown",
      "source": [
        "# Alter table amenties with category as superclass"
      ],
      "metadata": {
        "id": "qPEAxZd3RYd3"
      }
    },
    {
      "cell_type": "code",
      "source": [
        "try:\n",
        "    # Create a cursor object\n",
        "    cursor = connection.cursor()\n",
        "\n",
        "    # Modify the amenities table to add the 'category' column\n",
        "    alter_table_query = \"ALTER TABLE airbnb_detection ADD category VARCHAR(255)\"\n",
        "\n",
        "    # Execute the ALTER TABLE query to add the new column\n",
        "    cursor.execute(alter_table_query)\n",
        "\n",
        "    # Commit the changes\n",
        "    connection.commit()\n",
        "\n",
        "    print(\"Column 'category' added to the 'amenities' table successfully.\")\n",
        "\n",
        "finally:\n",
        "    # Close the cursor and connection\n",
        "    cursor.close()\n"
      ],
      "metadata": {
        "colab": {
          "base_uri": "https://localhost:8080/"
        },
        "id": "wgMMhK49RdZT",
        "outputId": "55dc3689-e410-438d-dfc2-cf53918a8823"
      },
      "execution_count": 8,
      "outputs": [
        {
          "output_type": "stream",
          "name": "stdout",
          "text": [
            "Column 'category' added to the 'amenities' table successfully.\n"
          ]
        }
      ]
    },
    {
      "cell_type": "code",
      "source": [
        "try:\n",
        "    # Create a cursor object\n",
        "    cursor = connection.cursor()\n",
        "\n",
        "    # Define the categories for each amenity\n",
        "    categories = [\n",
        "        'Bathroom', 'Bedroom', 'Living Room', 'Living Room', 'Kitchen', 'Living Room', 'Kitchen',\n",
        "        'Kitchen', 'Living Room', 'Outdoor', 'Kitchen', 'Outdoor', 'Kitchen', 'Kitchen', 'Living Room',\n",
        "        'Kitchen', 'Bedroom', 'Outdoor', 'Kitchen', 'Bathroom', 'Bathroom', 'Living Room', 'Outdoor',\n",
        "        'Outdoor', 'Living Room', 'Bathroom', 'Bathroom', 'Outdoor', 'Bathroom', 'Kitchen'\n",
        "    ]\n",
        "\n",
        "    for idx, category in enumerate(categories):\n",
        "        # Update the 'category' column for each amenity\n",
        "        update_query = \"UPDATE amenities SET category = %s WHERE amenity_id = %s\"\n",
        "        cursor.execute(update_query, (category, idx))\n",
        "\n",
        "    # Commit the changes\n",
        "    connection.commit()\n",
        "\n",
        "    print(\"Categories added to the 'amenities' table successfully.\")\n",
        "\n",
        "finally:\n",
        "    # Close the cursor and connection\n",
        "    cursor.close()\n"
      ],
      "metadata": {
        "colab": {
          "base_uri": "https://localhost:8080/"
        },
        "id": "MKFdWGOmRtdo",
        "outputId": "2b87fbe7-382c-4785-e12f-3eb3e1872c35"
      },
      "execution_count": 5,
      "outputs": [
        {
          "output_type": "stream",
          "name": "stdout",
          "text": [
            "Categories added to the 'amenities' table successfully.\n"
          ]
        }
      ]
    }
  ]
}