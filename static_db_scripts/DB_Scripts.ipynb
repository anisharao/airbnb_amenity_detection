{
  "nbformat": 4,
  "nbformat_minor": 0,
  "metadata": {
    "colab": {
      "provenance": [],
      "toc_visible": true
    },
    "kernelspec": {
      "name": "python3",
      "display_name": "Python 3"
    },
    "language_info": {
      "name": "python"
    }
  },
  "cells": [
    {
      "cell_type": "markdown",
      "source": [
        "# In Cloud SQL , in networks tab , we have allowed requests from colab to establish db connection."
      ],
      "metadata": {
        "id": "GlR8dkOqGtlh"
      }
    },
    {
      "cell_type": "code",
      "source": [
        "!pip install pymysql\n"
      ],
      "metadata": {
        "colab": {
          "base_uri": "https://localhost:8080/"
        },
        "id": "b0TrRGm4Gq8u",
        "outputId": "6f1d0d10-7cb5-4059-c79c-ebdf71b93d3f"
      },
      "execution_count": 1,
      "outputs": [
        {
          "output_type": "stream",
          "name": "stdout",
          "text": [
            "Collecting pymysql\n",
            "  Downloading PyMySQL-1.1.0-py3-none-any.whl (44 kB)\n",
            "\u001b[?25l     \u001b[90m━━━━━━━━━━━━━━━━━━━━━━━━━━━━━━━━━━━━━━━━\u001b[0m \u001b[32m0.0/44.8 kB\u001b[0m \u001b[31m?\u001b[0m eta \u001b[36m-:--:--\u001b[0m\r\u001b[2K     \u001b[90m━━━━━━━━━━━━━━━━━━━━━━━━━━━━━━━━━━━━━━━━\u001b[0m \u001b[32m44.8/44.8 kB\u001b[0m \u001b[31m1.3 MB/s\u001b[0m eta \u001b[36m0:00:00\u001b[0m\n",
            "\u001b[?25hInstalling collected packages: pymysql\n",
            "Successfully installed pymysql-1.1.0\n"
          ]
        }
      ]
    },
    {
      "cell_type": "markdown",
      "source": [
        "# Connect to Cloud Sql"
      ],
      "metadata": {
        "id": "sTpagf8_eqX0"
      }
    },
    {
      "cell_type": "code",
      "source": [
        "import pymysql\n",
        "connection=pymysql.connect(host=\"34.70.162.68\", user=\"anisharao\",passwd=\"airbnb\", db=\"airbnb-298\")\n"
      ],
      "metadata": {
        "id": "PuVZsB2IU0LI"
      },
      "execution_count": 10,
      "outputs": []
    },
    {
      "cell_type": "markdown",
      "source": [
        "# Show tables"
      ],
      "metadata": {
        "id": "CTekqOWjG7Sh"
      }
    },
    {
      "cell_type": "code",
      "source": [
        "try:\n",
        "    # Create a cursor object\n",
        "    cursor = connection.cursor()\n",
        "\n",
        "    # Execute a query to get the table names\n",
        "    cursor.execute(\"select * from airbnb_detection\")\n",
        "\n",
        "    # Fetch all the tables\n",
        "    tables = cursor.fetchall()\n",
        "\n",
        "    # Print the table names\n",
        "    print(\"Tables in the database:\")\n",
        "    for table in tables:\n",
        "        print(table[0])\n",
        "\n",
        "finally:\n",
        "    # Close the cursor\n",
        "    cursor.close()\n"
      ],
      "metadata": {
        "colab": {
          "base_uri": "https://localhost:8080/"
        },
        "id": "xxMxOoFDXmyg",
        "outputId": "bd6b9701-59d6-4d9d-d5d0-52da3071b5f4"
      },
      "execution_count": 6,
      "outputs": [
        {
          "output_type": "stream",
          "name": "stdout",
          "text": [
            "Tables in the database:\n",
            "2\n"
          ]
        }
      ]
    },
    {
      "cell_type": "code",
      "source": [
        "try:\n",
        "    # Create a cursor object\n",
        "    cursor = connection.cursor()\n",
        "\n",
        "    # Execute the SELECT query\n",
        "    cursor.execute(\"DESC airbnb_detection\")\n",
        "\n",
        "    # Fetch all the rows from the result\n",
        "    rows = cursor.fetchall()\n",
        "\n",
        "    # Process and print the retrieved data\n",
        "    for row in rows:\n",
        "        print(row)\n",
        "\n",
        "except pymysql.Error as e:\n",
        "    print(f\"Error: {e}\")\n",
        "\n",
        "finally:\n",
        "    # Close the cursor and connection\n",
        "    cursor.close()"
      ],
      "metadata": {
        "colab": {
          "base_uri": "https://localhost:8080/"
        },
        "id": "CLAH_APRnuor",
        "outputId": "dee12d4e-e78d-4daf-ee84-b167e4857d21"
      },
      "execution_count": 15,
      "outputs": [
        {
          "output_type": "stream",
          "name": "stdout",
          "text": [
            "('airbnb_id', 'int', 'NO', '', None, '')\n",
            "('amenity_id', 'int', 'NO', 'MUL', None, '')\n",
            "('amenity_count', 'int', 'YES', '', None, '')\n",
            "('category', 'varchar(255)', 'YES', '', None, '')\n"
          ]
        }
      ]
    },
    {
      "cell_type": "code",
      "source": [
        "import pymysql\n",
        "\n",
        "\n",
        "\n",
        "try:\n",
        "    # Create a cursor\n",
        "    cursor = connection.cursor()\n",
        "\n",
        "    # Replace 'your_table_name' with your actual table name\n",
        "    table_name = 'airbnb_detection'\n",
        "\n",
        "    # Drop Primary Key Constraint\n",
        "    cursor.execute(f\"ALTER TABLE {table_name} DROP PRIMARY KEY;\")\n",
        "\n",
        "    # Replace 'your_foreign_key_name' with the actual foreign key name\n",
        "    foreign_key_name = 'airbnb_detection_ibfk_1'\n",
        "\n",
        "    # Drop Foreign Key Constraint\n",
        "    # cursor.execute(f\"ALTER TABLE {table_name} DROP FOREIGN KEY {foreign_key_name};\")\n",
        "\n",
        "    # Commit the changes\n",
        "    connection.commit()\n",
        "    print(\"Primary key and foreign key dropped successfully.\")\n",
        "\n",
        "except pymysql.Error as e:\n",
        "    print(f\"Error: {e}\")\n",
        "\n",
        "finally:\n",
        "    # Close the cursor and connection\n",
        "    cursor.close()\n"
      ],
      "metadata": {
        "colab": {
          "base_uri": "https://localhost:8080/"
        },
        "id": "6tlSFW11oPbm",
        "outputId": "5a237eec-feb3-4bf4-e1df-0358d5e5b19c"
      },
      "execution_count": 14,
      "outputs": [
        {
          "output_type": "stream",
          "name": "stdout",
          "text": [
            "Primary key and foreign key dropped successfully.\n"
          ]
        }
      ]
    },
    {
      "cell_type": "code",
      "source": [
        "\n",
        "try:\n",
        "    # Create a cursor\n",
        "    cursor = connection.cursor()\n",
        "\n",
        "    # Replace 'your_table_name' with your actual table name\n",
        "    table_name = 'airbnb_detection'\n",
        "\n",
        "    # Query the information schema to get foreign key names\n",
        "    cursor.execute(f\"\"\"\n",
        "        SELECT\n",
        "            CONSTRAINT_NAME\n",
        "        FROM\n",
        "            INFORMATION_SCHEMA.KEY_COLUMN_USAGE\n",
        "        WHERE\n",
        "            TABLE_NAME = '{table_name}'\n",
        "            AND REFERENCED_TABLE_NAME IS NOT NULL;\n",
        "    \"\"\")\n",
        "\n",
        "    # Fetch the results\n",
        "    foreign_keys = cursor.fetchall()\n",
        "\n",
        "    # Print the foreign key names\n",
        "    if foreign_keys:\n",
        "        print(\"Foreign Key Names:\")\n",
        "        for row in foreign_keys:\n",
        "            print(row[0])\n",
        "    else:\n",
        "        print(\"No foreign keys found for the table.\")\n",
        "\n",
        "except pymysql.Error as e:\n",
        "    print(f\"Error: {e}\")\n",
        "\n",
        "finally:\n",
        "    # Close the cursor and connection\n",
        "    cursor.close()\n"
      ],
      "metadata": {
        "colab": {
          "base_uri": "https://localhost:8080/"
        },
        "id": "NUnHN_xcpLch",
        "outputId": "7ba7982e-b6c3-4902-86bb-b534fe008fcb"
      },
      "execution_count": 11,
      "outputs": [
        {
          "output_type": "stream",
          "name": "stdout",
          "text": [
            "Foreign Key Names:\n",
            "airbnb_detection_ibfk_1\n"
          ]
        }
      ]
    },
    {
      "cell_type": "markdown",
      "source": [
        "# Three tables are:\n",
        "1. Amenties -> that stores amenity names -> of no use\n",
        "2. airbnb_registration-> to store airbnb property details\n",
        "3. airbnb_detection-> to store detections found"
      ],
      "metadata": {
        "id": "gbNbtnTiHBou"
      }
    },
    {
      "cell_type": "code",
      "source": [
        "try:\n",
        "    # Create a cursor object\n",
        "    cursor = connection.cursor()\n",
        "\n",
        "    # Execute a query to create the amenities table\n",
        "    create_table_query = \"\"\"\n",
        "    CREATE TABLE IF NOT EXISTS amenities (\n",
        "        amenity_id INT PRIMARY KEY,\n",
        "        amenity_name VARCHAR(255) NOT NULL\n",
        "    )\n",
        "    \"\"\"\n",
        "    cursor.execute(create_table_query)\n",
        "\n",
        "    # Commit the changes\n",
        "    connection.commit()\n",
        "\n",
        "    print(\"Table 'amenities' created successfully.\")\n",
        "\n",
        "    # Execute a query to create the airbnb_registration table\n",
        "    create_airbnb_registration_table_query = \"\"\"\n",
        "    CREATE TABLE IF NOT EXISTS airbnb_registration (\n",
        "        airbnb_id INT ,\n",
        "        airbnb_name VARCHAR(255) ,\n",
        "        airbnb_location VARCHAR(255) ,\n",
        "        airbnb_price DECIMAL(10, 2) ,\n",
        "        PRIMARY KEY (airbnb_id, airbnb_name)\n",
        "    )\n",
        "    \"\"\"\n",
        "    cursor.execute(create_airbnb_registration_table_query)\n",
        "\n",
        "    # Commit the changes for airbnb_registration table\n",
        "    connection.commit()\n",
        "\n",
        "    print(\"Table 'airbnb_registration' created successfully.\")\n",
        "\n",
        "        # Execute a query to create the airbnb_registration table\n",
        "    create_airbnb_detection_table_query = \"\"\"\n",
        "    CREATE TABLE IF NOT EXISTS airbnb_detection (\n",
        "        airbnb_id INT,\n",
        "        amenity_name VARCHAR(255),\n",
        "        amenity_count INT,\n",
        "        PRIMARY KEY (airbnb_id, amenity_name),\n",
        "        CATEGORY VARCHAR(255),\n",
        "        FOREIGN KEY (airbnb_id) REFERENCES airbnb_registration(airbnb_id),\n",
        "    )\n",
        "    \"\"\"\n",
        "    cursor.execute(create_airbnb_detection_table_query)\n",
        "\n",
        "    # Commit the changes for airbnb_registration table\n",
        "    connection.commit()\n",
        "\n",
        "    print(\"Table 'airbnb_detection' created successfully.\")\n",
        "\n",
        "finally:\n",
        "    # Close the cursor and connection\n",
        "    cursor.close()"
      ],
      "metadata": {
        "colab": {
          "base_uri": "https://localhost:8080/"
        },
        "id": "9jWe0cDhexif",
        "outputId": "562727c4-4875-47db-c57f-1413bf632f79"
      },
      "execution_count": 12,
      "outputs": [
        {
          "output_type": "stream",
          "name": "stdout",
          "text": [
            "Table 'amenities' created successfully.\n",
            "Table 'airbnb_registration' created successfully.\n",
            "Table 'airbnb_detection' created successfully.\n"
          ]
        }
      ]
    },
    {
      "cell_type": "markdown",
      "source": [
        "# Insert into Amenities"
      ],
      "metadata": {
        "id": "UYrsu1QpuJni"
      }
    },
    {
      "cell_type": "code",
      "source": [
        "try:\n",
        "    # Create a cursor object\n",
        "    cursor = connection.cursor()\n",
        "\n",
        "    # Insert data into the amenities table\n",
        "    classes = ['Bathtub', 'Bed', 'Billiard table', 'Ceiling fan', 'Coffeemaker', 'Couch', 'Countertop',\n",
        "               'Dishwasher', 'Fireplace', 'Fountain', 'Gas stove', 'Jacuzzi', 'Kitchen & dining room table',\n",
        "               'Microwave oven', 'Mirror', 'Oven', 'Pillow', 'Porch', 'Refrigerator', 'Shower', 'Sink',\n",
        "               'Sofa bed', 'Stairs', 'Swimming pool', 'Television', 'Toilet', 'Towel', 'Tree house',\n",
        "               'Washing machine', 'Wine rack']\n",
        "\n",
        "    for idx, amenity_name in enumerate(classes):\n",
        "        # Insert each amenity into the table\n",
        "        cursor.execute(\"INSERT INTO amenities (amenity_id, amenity_name) VALUES (%s, %s)\", (idx, amenity_name))\n",
        "\n",
        "    # Commit the changes\n",
        "    connection.commit()\n",
        "\n",
        "    print(\"Data inserted into the 'amenities' table successfully.\")\n",
        "\n",
        "finally:\n",
        "    # Close the cursor and connection\n",
        "    cursor.close()"
      ],
      "metadata": {
        "id": "_smLmbRCuMKV"
      },
      "execution_count": null,
      "outputs": []
    },
    {
      "cell_type": "markdown",
      "source": [
        "# Select queries"
      ],
      "metadata": {
        "id": "jWkrCgdsJ5xL"
      }
    },
    {
      "cell_type": "code",
      "source": [
        "try:\n",
        "    # Create a cursor object\n",
        "    cursor = connection.cursor()\n",
        "\n",
        "    # Execute a query to drop the specified table\n",
        "    cursor.execute(\"select * from amenities\")\n",
        "        # Fetch all the columns\n",
        "    rows = cursor.fetchall()\n",
        "\n",
        "    # Print the column names and information\n",
        "    # print(f\"Columns in the table airbnb_detection:\")\n",
        "    for row in rows:\n",
        "        print(row)\n",
        "\n",
        "    # Commit the changes\n",
        "    # connection.commit()\n",
        "\n",
        "    # print(f\"Table amenities dropped successfully.\")\n",
        "\n",
        "finally:\n",
        "    # Close the cursor and connection\n",
        "    cursor.close()"
      ],
      "metadata": {
        "colab": {
          "base_uri": "https://localhost:8080/"
        },
        "id": "bdRRqbozJ7wF",
        "outputId": "53aef63f-628e-4511-da44-671d2b29410f"
      },
      "execution_count": 6,
      "outputs": [
        {
          "output_type": "stream",
          "name": "stdout",
          "text": [
            "(0, 'Bathtub', 'Bathroom')\n",
            "(1, 'Bed', 'Bedroom')\n",
            "(2, 'Billiard table', 'Living Room')\n",
            "(3, 'Ceiling fan', 'Living Room')\n",
            "(4, 'Coffeemaker', 'Kitchen')\n",
            "(5, 'Couch', 'Living Room')\n",
            "(6, 'Countertop', 'Kitchen')\n",
            "(7, 'Dishwasher', 'Kitchen')\n",
            "(8, 'Fireplace', 'Living Room')\n",
            "(9, 'Fountain', 'Outdoor')\n",
            "(10, 'Gas stove', 'Kitchen')\n",
            "(11, 'Jacuzzi', 'Outdoor')\n",
            "(12, 'Kitchen & dining room table', 'Kitchen')\n",
            "(13, 'Microwave oven', 'Kitchen')\n",
            "(14, 'Mirror', 'Living Room')\n",
            "(15, 'Oven', 'Kitchen')\n",
            "(16, 'Pillow', 'Bedroom')\n",
            "(17, 'Porch', 'Outdoor')\n",
            "(18, 'Refrigerator', 'Kitchen')\n",
            "(19, 'Shower', 'Bathroom')\n",
            "(20, 'Sink', 'Bathroom')\n",
            "(21, 'Sofa bed', 'Living Room')\n",
            "(22, 'Stairs', 'Outdoor')\n",
            "(23, 'Swimming pool', 'Outdoor')\n",
            "(24, 'Television', 'Living Room')\n",
            "(25, 'Toilet', 'Bathroom')\n",
            "(26, 'Towel', 'Bathroom')\n",
            "(27, 'Tree house', 'Outdoor')\n",
            "(28, 'Washing machine', 'Bathroom')\n",
            "(29, 'Wine rack', 'Kitchen')\n"
          ]
        }
      ]
    },
    {
      "cell_type": "code",
      "source": [
        "try:\n",
        "    # Create a cursor object\n",
        "    cursor = connection.cursor()\n",
        "\n",
        "    # Execute a query to drop the specified table\n",
        "    cursor.execute(\"select * from airbnb_detection\")\n",
        "        # Fetch all the columns\n",
        "    rows = cursor.fetchall()\n",
        "\n",
        "    # Print the column names and information\n",
        "    # print(f\"Columns in the table airbnb_detection:\")\n",
        "    for row in rows:\n",
        "        print(row)\n",
        "\n",
        "    # Commit the changes\n",
        "    # connection.commit()\n",
        "\n",
        "    # print(f\"Table amenities dropped successfully.\")\n",
        "\n",
        "finally:\n",
        "    # Close the cursor and connection\n",
        "    cursor.close()"
      ],
      "metadata": {
        "colab": {
          "base_uri": "https://localhost:8080/"
        },
        "id": "J51TVb_vJ8ze",
        "outputId": "9d69f3b7-b65f-416a-a520-af9883c34f17"
      },
      "execution_count": 17,
      "outputs": [
        {
          "output_type": "stream",
          "name": "stdout",
          "text": [
            "(2, 23, 1, None)\n"
          ]
        }
      ]
    },
    {
      "cell_type": "markdown",
      "source": [
        "# Alter table amenties with category as superclass"
      ],
      "metadata": {
        "id": "qPEAxZd3RYd3"
      }
    },
    {
      "cell_type": "code",
      "source": [
        "try:\n",
        "    # Create a cursor object\n",
        "    cursor = connection.cursor()\n",
        "\n",
        "    # Modify the amenities table to add the 'category' column\n",
        "    alter_table_query = \"ALTER TABLE airbnb_detection ADD category VARCHAR(255)\"\n",
        "\n",
        "    # Execute the ALTER TABLE query to add the new column\n",
        "    cursor.execute(alter_table_query)\n",
        "\n",
        "    # Commit the changes\n",
        "    connection.commit()\n",
        "\n",
        "    print(\"Column 'category' added to the 'amenities' table successfully.\")\n",
        "\n",
        "finally:\n",
        "    # Close the cursor and connection\n",
        "    cursor.close()\n"
      ],
      "metadata": {
        "colab": {
          "base_uri": "https://localhost:8080/"
        },
        "id": "wgMMhK49RdZT",
        "outputId": "55dc3689-e410-438d-dfc2-cf53918a8823"
      },
      "execution_count": 8,
      "outputs": [
        {
          "output_type": "stream",
          "name": "stdout",
          "text": [
            "Column 'category' added to the 'amenities' table successfully.\n"
          ]
        }
      ]
    },
    {
      "cell_type": "code",
      "source": [
        "try:\n",
        "    # Create a cursor object\n",
        "    cursor = connection.cursor()\n",
        "\n",
        "    # Define the categories for each amenity\n",
        "    categories = [\n",
        "        'Bathroom', 'Bedroom', 'Living Room', 'Living Room', 'Kitchen', 'Living Room', 'Kitchen',\n",
        "        'Kitchen', 'Living Room', 'Outdoor', 'Kitchen', 'Outdoor', 'Kitchen', 'Kitchen', 'Living Room',\n",
        "        'Kitchen', 'Bedroom', 'Outdoor', 'Kitchen', 'Bathroom', 'Bathroom', 'Living Room', 'Outdoor',\n",
        "        'Outdoor', 'Living Room', 'Bathroom', 'Bathroom', 'Outdoor', 'Bathroom', 'Kitchen'\n",
        "    ]\n",
        "\n",
        "    for idx, category in enumerate(categories):\n",
        "        # Update the 'category' column for each amenity\n",
        "        update_query = \"UPDATE amenities SET category = %s WHERE amenity_id = %s\"\n",
        "        cursor.execute(update_query, (category, idx))\n",
        "\n",
        "    # Commit the changes\n",
        "    connection.commit()\n",
        "\n",
        "    print(\"Categories added to the 'amenities' table successfully.\")\n",
        "\n",
        "finally:\n",
        "    # Close the cursor and connection\n",
        "    cursor.close()\n"
      ],
      "metadata": {
        "colab": {
          "base_uri": "https://localhost:8080/"
        },
        "id": "MKFdWGOmRtdo",
        "outputId": "2b87fbe7-382c-4785-e12f-3eb3e1872c35"
      },
      "execution_count": 5,
      "outputs": [
        {
          "output_type": "stream",
          "name": "stdout",
          "text": [
            "Categories added to the 'amenities' table successfully.\n"
          ]
        }
      ]
    },
    {
      "cell_type": "code",
      "source": [
        "try:\n",
        "    # Create a cursor object\n",
        "    cursor = connection.cursor()\n",
        "\n",
        "        # Execute a query to create the airbnb_registration table\n",
        "    create_airbnb_detection_table_query = \"\"\"\n",
        "    CREATE TABLE IF NOT EXISTS airbnb_detection (\n",
        "        airbnb_id INT,\n",
        "        amenity_name VARCHAR(255),\n",
        "        amenity_count INT,\n",
        "        CATEGORY VARCHAR(255),\n",
        "        PRIMARY KEY (airbnb_id, amenity_name),\n",
        "        FOREIGN KEY (airbnb_id) REFERENCES airbnb_registration(airbnb_id)\n",
        "    )\n",
        "    \"\"\"\n",
        "    cursor.execute(create_airbnb_detection_table_query)\n",
        "    cursor.execute(\"SELECT 1\")\n",
        "\n",
        "\n",
        "    # Commit the changes for airbnb_registration table\n",
        "    connection.commit()\n",
        "\n",
        "    print(\"Table 'airbnb_detection' created successfully.\")\n",
        "\n",
        "finally:\n",
        "    # Close the cursor and connection\n",
        "    cursor.close()"
      ],
      "metadata": {
        "colab": {
          "base_uri": "https://localhost:8080/"
        },
        "id": "ZMp6R3EOm0c8",
        "outputId": "a2a5daa3-ffce-469c-a95b-1ce1b8c4a7ee"
      },
      "execution_count": 17,
      "outputs": [
        {
          "output_type": "stream",
          "name": "stdout",
          "text": [
            "Table 'airbnb_detection' created successfully.\n"
          ]
        }
      ]
    },
    {
      "cell_type": "code",
      "source": [
        "\n",
        "# try:\n",
        "#     # Create a cursor\n",
        "#     cursor = connection.cursor()\n",
        "\n",
        "#     # Replace 'your_table_name' with the name of the table you want to drop\n",
        "#     table_name = 'airbnb_detection'\n",
        "\n",
        "#     # Execute the SQL statement to drop the table\n",
        "#     cursor.execute(f\"DROP TABLE IF EXISTS {table_name}\")\n",
        "\n",
        "#     # Commit the changes\n",
        "#     connection.commit()\n",
        "\n",
        "#     print(f\"The table '{table_name}' has been dropped successfully.\")\n",
        "\n",
        "# except pymysql.Error as e:\n",
        "#     print(f\"Error: {e}\")\n",
        "\n",
        "# finally:\n",
        "#     # Close the cursor and connection\n",
        "#     cursor.close()\n"
      ],
      "metadata": {
        "colab": {
          "base_uri": "https://localhost:8080/"
        },
        "id": "wKP56ytJpoEf",
        "outputId": "b843b32e-944c-4b9a-a9f5-a1a736d1e7cc"
      },
      "execution_count": 16,
      "outputs": [
        {
          "output_type": "stream",
          "name": "stdout",
          "text": [
            "The table 'airbnb_detection' has been dropped successfully.\n"
          ]
        }
      ]
    }
  ]
}